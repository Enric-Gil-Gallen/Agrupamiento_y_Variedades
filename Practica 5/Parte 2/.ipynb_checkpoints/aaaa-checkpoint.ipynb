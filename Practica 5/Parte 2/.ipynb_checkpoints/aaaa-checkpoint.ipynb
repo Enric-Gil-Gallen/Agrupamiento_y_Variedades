{
 "cells": [
  {
   "cell_type": "markdown",
   "metadata": {},
   "source": [
    "# 'Segmentación' de una imagen en el espacio de color\n",
    "\n",
    "La aproximación que hemos usado hasta ahora para presentar DBSCAN se ha basado en ejemplos donde el concepto de 'localidad' venia dado por la contiguidad espacial. En este ejercicio vamos a usar DBSCAN en el espacio de características del color y vamos a usar DBSCAN para agrupar píxeles de una imágen que tienen color parecido (dependerá del parámetro Epsilon que elijas).\n",
    "\n",
    "La segmentación de una imagen en el campo de la visión por computador, consiste en la identificación de objetos diferentes en la misma. Formalmente esto se hace generalmente usando operaciones sobre pixel (detección de bordes, regiones,...). Nosotros vamos a utilizar DBSCAN para agrupar en el espacio de colores de la imagen  los pixeles que tengan colores muy parecidos. No es una verdadera segmentación, pero es una aproximación al problema de la detección de regiones de la imagen que representan objetos diferentes (dejando a un lado el problema de las sombras, reflejos etc)\n",
    "\n",
    "### Paso 1. Carga de la imagen\n",
    "Carga la imagen 'mercado.jpg' utilizando la libreria de Python cv2 y escálala al 50% ya que es un poco grande para el procesamiento de DBSCAN.Para ello usa cv2.resize().\n",
    "Comprueba quie todo ha ido bien escribiendo la imagen escalada usando cv2.imwrite() y visualizándola a su vez con Image(filename=??)\n",
    "La imagen se carga en RGB, cada pixel tiene 3 valores en un rango [0,255] que representa su color."
   ]
  },
  {
   "cell_type": "code",
   "execution_count": null,
   "metadata": {},
   "outputs": [],
   "source": [
    "import cv2 #EDIT, this line added\n",
    "from IPython.display import Image\n",
    "\n",
    "import numpy as np\n",
    "from sklearn.cluster import DBSCAN\n",
    "\n",
    "src = cv2.imread('mercado.jpg', cv2.IMREAD_UNCHANGED)\n",
    " \n",
    "#Porcentaje en el que se redimensiona la imagen\n",
    "scale_percent = 50\n",
    " \n",
    "#calcular el 50 por ciento de las dimensiones originales usando los datos de src.shape\n",
    "width = int(???)\n",
    "height = int(???)\n",
    " \n",
    "# dsize\n",
    "dsize = (width, height)\n",
    " \n",
    "# cambiar el tamaño de la imagen\n",
    "output = cv2.resize(???)\n",
    "#output = src\n",
    " \n",
    "cv2.imwrite('mercado_half.jpg',output) \n",
    "\n",
    "Image(filename='mercado_half.jpg') "
   ]
  },
  {
   "cell_type": "markdown",
   "metadata": {},
   "source": [
    "### Paso 2 Cambio de formato de la imagen\n",
    "La imagen esta en memoria como una matriz de pixeles de 3 componentes, pero DBSCAN procesa vectores de datos, así que vamos a cambiar el formato por un vector de componentes de color. Es decir vamos a cambiar de una matriz de dimensiones (n,m,3) a un vector de dimensiones (n*m,3)"
   ]
  },
  {
   "cell_type": "code",
   "execution_count": null,
   "metadata": {},
   "outputs": [],
   "source": [
    "#Comprobamos la talla de nuestra imagen\n",
    "print(output.shape)\n",
    "sh = output.shape\n",
    "#print(output)\n",
    "#print(sh[0],sh[1])\n",
    "\n",
    "#Reformateamos la imagen 'output' usando np.reshape a (sh[0]*sh[1],3)\n",
    "output_std = ???\n",
    "print(\"*******\")\n",
    "\n",
    "#debe dar (70794,3)\n",
    "print(output_std.shape)"
   ]
  },
  {
   "cell_type": "markdown",
   "metadata": {},
   "source": [
    "### Paso 3. Aplicamos DBSCAN\n",
    "Como sabemos, DBSCAN es muy sensible a los parámetros **eps y MinPts**. Una variación de 1 unidad en 'eps' puede representar un cambio de un resultado aceptable a un mal resultado o viceversa. Estudia el resultado de DBSCAN para un rango **eps [2,6]** aumentando de 1 en 1 y para un **MinPts [10, 20]**  aumentando de 1 en 1. Como no puedes comparar con una solucion, una forma de ver si el resultado puede ser bueno es observar el número de etiquetas que genera DBSCAN (número de clusters) y la cantidad de píxeles que  contiene cada cluster (tamaño).\n",
    "Como indicación en nuestra experiencia con esta imagen, una buena indicación es:\n",
    "-obtener más de 100 clusters\n",
    "-el cluster etiquetado como -1 (ruido) tiene menos del 50% de los datos"
   ]
  },
  {
   "cell_type": "code",
   "execution_count": null,
   "metadata": {},
   "outputs": [],
   "source": [
    "# Define max_distance (eps parameter in DBSCAN())\n",
    "max_distance = ??\n",
    "db = DBSCAN(eps=max_distance, min_samples=??).fit(output_std)\n",
    "\n",
    "# Extract labels (-1 is used for outliers)\n",
    "labels = ???"
   ]
  },
  {
   "cell_type": "markdown",
   "metadata": {},
   "source": [
    "Con la información que te proporciona la caja siguiente, puedes juzgar si el resultado será bueno atendiendo al número de grupos formados y a la cantidad de pixeles que tiene cada grupo. No hay un resultado claramente mejor aunque sí muchos mejores que otros. Piensa que estás clusterizando por  color de pixel, no por contiguidad espacial de pixels."
   ]
  },
  {
   "cell_type": "code",
   "execution_count": null,
   "metadata": {
    "scrolled": true
   },
   "outputs": [],
   "source": [
    "#Analizamos el número de clusters y su tamaño\n",
    "print(db.n_features_in_)\n",
    "unique, counts = np.unique(labels, return_counts=True)\n",
    "print(unique)\n",
    "print(counts)"
   ]
  },
  {
   "cell_type": "markdown",
   "metadata": {},
   "source": [
    "Preparamos ahora una paleta de colores para pintar cada pixel con un color según su pertenencia a un cluster."
   ]
  },
  {
   "cell_type": "code",
   "execution_count": null,
   "metadata": {
    "scrolled": true
   },
   "outputs": [],
   "source": [
    "import matplotlib.pyplot as plt\n",
    "import seaborn as sns\n",
    "\n",
    "lst = unique\n",
    "\n",
    "fig = plt.figure(figsize=(7,5))\n",
    "axes = fig.add_subplot(1,1,1)\n",
    "axes.set_ylim(0, len(lst))\n",
    "plt.style.use(\"seaborn\")\n",
    "\n",
    "\n",
    "lst = [x+2 for x in lst]\n",
    "palette = sns.color_palette(\"Spectral\",len(lst))\n",
    "#palette = sns.color_palette(\"inferno_r\", 7)\n",
    "\n",
    "print(palette)\n",
    "plt.bar(range(len(lst)), sorted(lst), color=palette)\n",
    "#tick_lst=[\"one\", \"two\", \"three\", \"four\", \"five\", \"six\", \"seven\"]\n",
    "plt.xticks(np.arange(len(lst)))\n",
    "plt.title(\"Reversed Inferno Palette 7 Colors\", color=\"darkblue\")"
   ]
  },
  {
   "cell_type": "markdown",
   "metadata": {},
   "source": [
    "EL código de la caja siguiente pretende evitar que clusters muy grandes tengan colores muy parecidos.\n",
    "Observando el vector de clusters con su tamaño, que has calculado anteriormente, podrás  darte cuenta de que muchas veces aparecen clusteres muy grandes juntos al principio (tipicamente el cluster de etiqueta -1 que corresponde al ruido y algun cluster entre la etiqueta 0 y 10). Como las etiquetas tambien representan entradas a la paleta de colores, etiquetas muy próximas tambien tienen colores muy proximos.\n",
    "Esto hace que sea difícil identificar los diferentes grupos grandes. Para evitar esto, vamos a intercambiar las etiquetas de al menos el grupo de ruido y otro grupo que consideres cercano al mismo, intercambiando las etiquetas con otros grupos con etiquetas del final (ej. intercambiamos las etiquetas -1 con otra etiqueta del final que tenga pocos pixeles) e intercambiamos el otro grupo grande cercano a -1 con una etiqueta de un grupo pequeño del medio del vector de etiquetas."
   ]
  },
  {
   "cell_type": "code",
   "execution_count": null,
   "metadata": {},
   "outputs": [],
   "source": [
    "#Intercambio de algunas etiquetas por parte de los pixeles\n",
    "for j in range(0,sh[0]*sh[1]):\n",
    "    aux = labels[j]\n",
    "    \n",
    "    #elijo un grupo próximo a la etiqueta '-1' que sea muy grande y lo mando a otra region de color\n",
    "    if labels[j] == 0:\n",
    "        aux = 35\n",
    "    if labels[j] == 35:\n",
    "        aux = 0\n",
    "    #elijo la etiqueta de ruido (-1) y la intercambio con otra del final de la paleta\n",
    "    if labels[j] == -1:\n",
    "        aux = 75\n",
    "    if labels[j] == 75:\n",
    "        aux = -1\n",
    "    \n",
    "    labels[j] = aux"
   ]
  },
  {
   "cell_type": "markdown",
   "metadata": {},
   "source": [
    "Ahora reescribimos los colores de los pixeles de la imagen con los colores de la paleta siguiendo los valores de la etiquetas (es decir, pintamos cada pixel con el color asociado a la etiqueta de dicho pixel)"
   ]
  },
  {
   "cell_type": "code",
   "execution_count": null,
   "metadata": {},
   "outputs": [],
   "source": [
    "\n",
    "for i in range(0,sh[0]*sh[1]): \n",
    "    output_std[i,0] = round((np.array(palette[labels[i]+1])[0]) * 255.0)\n",
    "    output_std[i,1] = round((np.array(palette[labels[i]+1])[1]) * 255.0)\n",
    "    output_std[i,2] = round((np.array(palette[labels[i]+1])[2]) * 255.0)\n"
   ]
  },
  {
   "cell_type": "markdown",
   "metadata": {},
   "source": [
    "Reescalamos el vector de píxeles para que vuelva a ser una matriz de pixeles (formato original de la imagen).\n",
    "Y escribimos la imagen procesada en un fichero para su visualizacion."
   ]
  },
  {
   "cell_type": "code",
   "execution_count": null,
   "metadata": {},
   "outputs": [],
   "source": [
    "output_newshape = np.resize(???)\n",
    "print(output_newshape.shape)\n",
    "\n",
    "cv2.imwrite('mercado_segmentado.jpg',cv2.cvtColor(output_newshape, cv2.COLOR_RGB2BGR)) \n",
    "\n",
    "\n",
    "Image(filename='mercado_segmentado.jpg') "
   ]
  },
  {
   "cell_type": "markdown",
   "metadata": {},
   "source": [
    "**Responde a las siguientes preguntas: (dando una explicación razonable)**\n",
    "P1: Indica tu experiencia con el parámetro Epsilon a partir de tus resultados\n",
    "P2: ¿Es/Sería posible que un pixel de pimiento y un pixel de un tomate pertenezcan al mismo cluster?"
   ]
  }
 ],
 "metadata": {
  "kernelspec": {
   "display_name": "Python 3 (ipykernel)",
   "language": "python",
   "name": "python3"
  },
  "language_info": {
   "codemirror_mode": {
    "name": "ipython",
    "version": 3
   },
   "file_extension": ".py",
   "mimetype": "text/x-python",
   "name": "python",
   "nbconvert_exporter": "python",
   "pygments_lexer": "ipython3",
   "version": "3.9.12"
  }
 },
 "nbformat": 4,
 "nbformat_minor": 4
}
