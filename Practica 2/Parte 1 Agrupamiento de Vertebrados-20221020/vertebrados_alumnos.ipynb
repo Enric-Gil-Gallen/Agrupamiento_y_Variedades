{
 "cells": [
  {
   "cell_type": "markdown",
   "metadata": {},
   "source": [
    "#  Agrupamiento Jerárquico. Aplicación de diferentes Linkages\n",
    "\n",
    "Vamos a considerar un dataset con animales vertebrados cuyas caracteristicas binarias describen propiedades esenciales de un grupo de vertebrados (sangre caliente, extremidades,...). Los datos se encuentran en el fichero CSV 'vertebrate.csv'.\n",
    "\n",
    "Los cargamos y visualizamos en forma de tabla los vectores de características binarios:"
   ]
  },
  {
   "cell_type": "code",
   "execution_count": 1,
   "metadata": {},
   "outputs": [
    {
     "data": {
      "text/html": [
       "<div>\n",
       "<style scoped>\n",
       "    .dataframe tbody tr th:only-of-type {\n",
       "        vertical-align: middle;\n",
       "    }\n",
       "\n",
       "    .dataframe tbody tr th {\n",
       "        vertical-align: top;\n",
       "    }\n",
       "\n",
       "    .dataframe thead th {\n",
       "        text-align: right;\n",
       "    }\n",
       "</style>\n",
       "<table border=\"1\" class=\"dataframe\">\n",
       "  <thead>\n",
       "    <tr style=\"text-align: right;\">\n",
       "      <th></th>\n",
       "      <th>Name</th>\n",
       "      <th>Warm-blooded</th>\n",
       "      <th>Gives Birth</th>\n",
       "      <th>Aquatic Creature</th>\n",
       "      <th>Aerial Creature</th>\n",
       "      <th>Has Legs</th>\n",
       "      <th>Hibernates</th>\n",
       "      <th>Class</th>\n",
       "    </tr>\n",
       "  </thead>\n",
       "  <tbody>\n",
       "    <tr>\n",
       "      <th>0</th>\n",
       "      <td>human</td>\n",
       "      <td>1</td>\n",
       "      <td>1</td>\n",
       "      <td>0</td>\n",
       "      <td>0</td>\n",
       "      <td>1</td>\n",
       "      <td>0</td>\n",
       "      <td>mammals</td>\n",
       "    </tr>\n",
       "    <tr>\n",
       "      <th>1</th>\n",
       "      <td>python</td>\n",
       "      <td>0</td>\n",
       "      <td>0</td>\n",
       "      <td>0</td>\n",
       "      <td>0</td>\n",
       "      <td>0</td>\n",
       "      <td>1</td>\n",
       "      <td>reptiles</td>\n",
       "    </tr>\n",
       "    <tr>\n",
       "      <th>2</th>\n",
       "      <td>salmon</td>\n",
       "      <td>0</td>\n",
       "      <td>0</td>\n",
       "      <td>1</td>\n",
       "      <td>0</td>\n",
       "      <td>0</td>\n",
       "      <td>0</td>\n",
       "      <td>fishes</td>\n",
       "    </tr>\n",
       "    <tr>\n",
       "      <th>3</th>\n",
       "      <td>whale</td>\n",
       "      <td>1</td>\n",
       "      <td>1</td>\n",
       "      <td>1</td>\n",
       "      <td>0</td>\n",
       "      <td>0</td>\n",
       "      <td>0</td>\n",
       "      <td>mammals</td>\n",
       "    </tr>\n",
       "    <tr>\n",
       "      <th>4</th>\n",
       "      <td>frog</td>\n",
       "      <td>0</td>\n",
       "      <td>0</td>\n",
       "      <td>1</td>\n",
       "      <td>0</td>\n",
       "      <td>1</td>\n",
       "      <td>1</td>\n",
       "      <td>amphibians</td>\n",
       "    </tr>\n",
       "    <tr>\n",
       "      <th>5</th>\n",
       "      <td>komodo</td>\n",
       "      <td>0</td>\n",
       "      <td>0</td>\n",
       "      <td>0</td>\n",
       "      <td>0</td>\n",
       "      <td>1</td>\n",
       "      <td>0</td>\n",
       "      <td>reptiles</td>\n",
       "    </tr>\n",
       "    <tr>\n",
       "      <th>6</th>\n",
       "      <td>bat</td>\n",
       "      <td>1</td>\n",
       "      <td>1</td>\n",
       "      <td>0</td>\n",
       "      <td>1</td>\n",
       "      <td>1</td>\n",
       "      <td>1</td>\n",
       "      <td>mammals</td>\n",
       "    </tr>\n",
       "    <tr>\n",
       "      <th>7</th>\n",
       "      <td>pigeon</td>\n",
       "      <td>1</td>\n",
       "      <td>0</td>\n",
       "      <td>0</td>\n",
       "      <td>1</td>\n",
       "      <td>1</td>\n",
       "      <td>0</td>\n",
       "      <td>birds</td>\n",
       "    </tr>\n",
       "    <tr>\n",
       "      <th>8</th>\n",
       "      <td>cat</td>\n",
       "      <td>1</td>\n",
       "      <td>1</td>\n",
       "      <td>0</td>\n",
       "      <td>0</td>\n",
       "      <td>1</td>\n",
       "      <td>0</td>\n",
       "      <td>mammals</td>\n",
       "    </tr>\n",
       "    <tr>\n",
       "      <th>9</th>\n",
       "      <td>leopard shark</td>\n",
       "      <td>0</td>\n",
       "      <td>1</td>\n",
       "      <td>1</td>\n",
       "      <td>0</td>\n",
       "      <td>0</td>\n",
       "      <td>0</td>\n",
       "      <td>fishes</td>\n",
       "    </tr>\n",
       "    <tr>\n",
       "      <th>10</th>\n",
       "      <td>turtle</td>\n",
       "      <td>0</td>\n",
       "      <td>0</td>\n",
       "      <td>1</td>\n",
       "      <td>0</td>\n",
       "      <td>1</td>\n",
       "      <td>0</td>\n",
       "      <td>reptiles</td>\n",
       "    </tr>\n",
       "    <tr>\n",
       "      <th>11</th>\n",
       "      <td>penguin</td>\n",
       "      <td>1</td>\n",
       "      <td>0</td>\n",
       "      <td>1</td>\n",
       "      <td>0</td>\n",
       "      <td>1</td>\n",
       "      <td>0</td>\n",
       "      <td>birds</td>\n",
       "    </tr>\n",
       "    <tr>\n",
       "      <th>12</th>\n",
       "      <td>porcupine</td>\n",
       "      <td>1</td>\n",
       "      <td>1</td>\n",
       "      <td>0</td>\n",
       "      <td>0</td>\n",
       "      <td>1</td>\n",
       "      <td>1</td>\n",
       "      <td>mammals</td>\n",
       "    </tr>\n",
       "    <tr>\n",
       "      <th>13</th>\n",
       "      <td>eel</td>\n",
       "      <td>0</td>\n",
       "      <td>0</td>\n",
       "      <td>1</td>\n",
       "      <td>0</td>\n",
       "      <td>0</td>\n",
       "      <td>0</td>\n",
       "      <td>fishes</td>\n",
       "    </tr>\n",
       "    <tr>\n",
       "      <th>14</th>\n",
       "      <td>salamander</td>\n",
       "      <td>0</td>\n",
       "      <td>0</td>\n",
       "      <td>1</td>\n",
       "      <td>0</td>\n",
       "      <td>1</td>\n",
       "      <td>1</td>\n",
       "      <td>amphibians</td>\n",
       "    </tr>\n",
       "  </tbody>\n",
       "</table>\n",
       "</div>"
      ],
      "text/plain": [
       "             Name  Warm-blooded  Gives Birth  Aquatic Creature  \\\n",
       "0           human             1            1                 0   \n",
       "1          python             0            0                 0   \n",
       "2          salmon             0            0                 1   \n",
       "3           whale             1            1                 1   \n",
       "4            frog             0            0                 1   \n",
       "5          komodo             0            0                 0   \n",
       "6             bat             1            1                 0   \n",
       "7          pigeon             1            0                 0   \n",
       "8             cat             1            1                 0   \n",
       "9   leopard shark             0            1                 1   \n",
       "10         turtle             0            0                 1   \n",
       "11        penguin             1            0                 1   \n",
       "12      porcupine             1            1                 0   \n",
       "13            eel             0            0                 1   \n",
       "14     salamander             0            0                 1   \n",
       "\n",
       "    Aerial Creature  Has Legs  Hibernates       Class  \n",
       "0                 0         1           0     mammals  \n",
       "1                 0         0           1    reptiles  \n",
       "2                 0         0           0      fishes  \n",
       "3                 0         0           0     mammals  \n",
       "4                 0         1           1  amphibians  \n",
       "5                 0         1           0    reptiles  \n",
       "6                 1         1           1     mammals  \n",
       "7                 1         1           0       birds  \n",
       "8                 0         1           0     mammals  \n",
       "9                 0         0           0      fishes  \n",
       "10                0         1           0    reptiles  \n",
       "11                0         1           0       birds  \n",
       "12                0         1           1     mammals  \n",
       "13                0         0           0      fishes  \n",
       "14                0         1           1  amphibians  "
      ]
     },
     "execution_count": 1,
     "metadata": {},
     "output_type": "execute_result"
    }
   ],
   "source": [
    "import pandas as pd\n",
    "\n",
    "data = pd.read_csv('vertebrate.csv',header='infer')\n",
    "data"
   ]
  },
  {
   "cell_type": "markdown",
   "metadata": {},
   "source": [
    "Importamos las librerias necesarias para el agrupamiento jerárquico y para  plotear el resultado. Separamos la lista de las clases de vertebrados  de los datos"
   ]
  },
  {
   "cell_type": "code",
   "execution_count": 2,
   "metadata": {},
   "outputs": [
    {
     "name": "stdout",
     "output_type": "stream",
     "text": [
      "0        mammals\n",
      "1       reptiles\n",
      "2         fishes\n",
      "3        mammals\n",
      "4     amphibians\n",
      "5       reptiles\n",
      "6        mammals\n",
      "7          birds\n",
      "8        mammals\n",
      "9         fishes\n",
      "10      reptiles\n",
      "11         birds\n",
      "12       mammals\n",
      "13        fishes\n",
      "14    amphibians\n",
      "Name: Class, dtype: object\n",
      "\n",
      "    Warm-blooded  Gives Birth  Aquatic Creature  Aerial Creature  Has Legs  \\\n",
      "0              1            1                 0                0         1   \n",
      "1              0            0                 0                0         0   \n",
      "2              0            0                 1                0         0   \n",
      "3              1            1                 1                0         0   \n",
      "4              0            0                 1                0         1   \n",
      "5              0            0                 0                0         1   \n",
      "6              1            1                 0                1         1   \n",
      "7              1            0                 0                1         1   \n",
      "8              1            1                 0                0         1   \n",
      "9              0            1                 1                0         0   \n",
      "10             0            0                 1                0         1   \n",
      "11             1            0                 1                0         1   \n",
      "12             1            1                 0                0         1   \n",
      "13             0            0                 1                0         0   \n",
      "14             0            0                 1                0         1   \n",
      "\n",
      "    Hibernates  \n",
      "0            0  \n",
      "1            1  \n",
      "2            0  \n",
      "3            0  \n",
      "4            1  \n",
      "5            0  \n",
      "6            1  \n",
      "7            0  \n",
      "8            0  \n",
      "9            0  \n",
      "10           0  \n",
      "11           0  \n",
      "12           1  \n",
      "13           0  \n",
      "14           1  \n"
     ]
    }
   ],
   "source": [
    "from scipy.cluster import hierarchy\n",
    "import matplotlib.pyplot as plt\n",
    "%matplotlib inline\n",
    "\n",
    "names = data['Name']\n",
    "Y = data['Class']\n",
    "X = data.drop(['Name','Class'],axis=1)\n",
    "print(Y)\n",
    "print()\n",
    "print(X)"
   ]
  },
  {
   "cell_type": "markdown",
   "metadata": {},
   "source": [
    "### Agrupamiento con Linkage tipo 'Single Link'\n",
    "Llamamos al método linkage con la distancia entre clusters de tipo Single Link.\n",
    "Generamos un dendrograma como resultado visual estandard de este tipo de agrupamiento"
   ]
  },
  {
   "cell_type": "code",
   "execution_count": 3,
   "metadata": {},
   "outputs": [
    {
     "data": {
      "image/png": "[encoded data removed]",
      "text/plain": [
       "<Figure size 432x288 with 1 Axes>"
      ]
     },
     "metadata": {
      "needs_background": "light"
     },
     "output_type": "display_data"
    }
   ],
   "source": [
    "Z = hierarchy.linkage(X.to_numpy(), 'single')\n",
    "dn = hierarchy.dendrogram(Z,labels=names.tolist(),orientation='right')"
   ]
  },
  {
   "cell_type": "code",
   "execution_count": 5,
   "metadata": {},
   "outputs": [
    {
     "data": {
      "image/png": "[encoded data removed]",
      "text/plain": [
       "<Figure size 432x288 with 1 Axes>"
      ]
     },
     "metadata": {
      "needs_background": "light"
     },
     "output_type": "display_data"
    }
   ],
   "source": [
    "Z = hierarchy.linkage(X.to_numpy(), 'single', metric = 'hamming')\n",
    "dn = hierarchy.dendrogram(Z,labels=names.tolist(),orientation='right')"
   ]
  },
  {
   "cell_type": "markdown",
   "metadata": {},
   "source": [
    "**Pregunta1:** Explica aquí cada una de la dos líneas anteriores con sus parámetros y sus conversiones. Consulta para ello las páginas de referencia OnLine de la librería.\n",
    "\n",
    "<font color='blue'>\n",
    "    \n",
    "En la primera línea estamos usando la función *linkage*, a la que le pasamos el vector de características binarias de los animales e indicamos el método de linkage a utilizar (*Single Link*).\n",
    "\n",
    "En la segunda línea, realizamos el dendograma del agrupamiento anterior, cuyas etiquetas son los nombres de los animales y lo orientamos hacia la derecha.\n",
    "\n",
    "</font>\n",
    "\n",
    "**Pregunta2:** ¿Con que métrica para los elementos del dataset estamos midiendo la distancia? (no te pregunto por el linkage).\n",
    "Ejecuta la caja anterior con la distancia de Hamming'. ¿Observas alguna diferencia? ¿Por qué?\n",
    "\n",
    "<font color='blue'>\n",
    "    \n",
    "Estamos utilizando como métrica la distancia euclídea. Si utilizamos la distancia de Hamming, el dendograma obtenido es el mismo, pero con distintos valores de distancia.\n",
    "\n",
    "</font>\n"
   ]
  },
  {
   "cell_type": "markdown",
   "metadata": {},
   "source": [
    "### Agrupamiento con Linkage tipo 'Complete Linkage'\n",
    "Realiza el mismo proceso que el anterior pero cambiando al Linkage que considera las distancias máximas entre los elementos de dos clusters. Consulta las páginas de referencia para sus nombres concretos.\n",
    "Usa e imprime el coeficiente cofenético."
   ]
  },
  {
   "cell_type": "code",
   "execution_count": 9,
   "metadata": {},
   "outputs": [
    {
     "name": "stdout",
     "output_type": "stream",
     "text": [
      "Coeficiente cofenético:  0.7879224997396711\n"
     ]
    },
    {
     "data": {
      "image/png": "[encoded data removed]",
      "text/plain": [
       "<Figure size 432x288 with 1 Axes>"
      ]
     },
     "metadata": {
      "needs_background": "light"
     },
     "output_type": "display_data"
    }
   ],
   "source": [
    "from scipy.spatial.distance import pdist\n",
    "\n",
    "Z = hierarchy.linkage(X.to_numpy(), 'complete')\n",
    "dn = hierarchy.dendrogram(Z,labels=names.tolist(),orientation='right')\n",
    "c,cophe_dists= hierarchy.cophenet(Z,pdist(X))\n",
    "print(\"Coeficiente cofenético: \", c)"
   ]
  },
  {
   "cell_type": "markdown",
   "metadata": {},
   "source": [
    "### Agrupamiento con Linkage tipo 'Average Linkage'\n",
    "Realiza el mismo proceso que el anterior pero cambiando al Linkage que considera la distancia media entre los elementos de dos clusters. Consulta las páginas de referencia para sus nombres concretos.\n",
    "Usa e imprime el coeficiente cofenético."
   ]
  },
  {
   "cell_type": "code",
   "execution_count": 10,
   "metadata": {},
   "outputs": [
    {
     "name": "stdout",
     "output_type": "stream",
     "text": [
      "Coeficiente cofenético:  0.8406359207573233\n"
     ]
    },
    {
     "data": {
      "image/png": "[encoded data removed]",
      "text/plain": [
       "<Figure size 432x288 with 1 Axes>"
      ]
     },
     "metadata": {
      "needs_background": "light"
     },
     "output_type": "display_data"
    }
   ],
   "source": [
    "Z = hierarchy.linkage(X.to_numpy(), 'average')\n",
    "dn = hierarchy.dendrogram(Z,labels=names.tolist(),orientation='right')\n",
    "c,cophe_dists= hierarchy.cophenet(Z,pdist(X))\n",
    "print(\"Coeficiente cofenético: \", c)"
   ]
  },
  {
   "cell_type": "markdown",
   "metadata": {},
   "source": [
    "### Agrupamiento con Linkage tipo 'Centroid y Ward'\n",
    "Realiza el código para los linkages de tipo 'Centroid' y 'Ward'. Consulta las páginas de referencia para sus nombres concretos.\n",
    "Usa e imprime el coeficiente cofenético."
   ]
  },
  {
   "cell_type": "code",
   "execution_count": 11,
   "metadata": {},
   "outputs": [
    {
     "name": "stdout",
     "output_type": "stream",
     "text": [
      "Coeficiente cofenético:  0.8089107616555786\n"
     ]
    },
    {
     "data": {
      "image/png": "[encoded data removed]",
      "text/plain": [
       "<Figure size 432x288 with 1 Axes>"
      ]
     },
     "metadata": {
      "needs_background": "light"
     },
     "output_type": "display_data"
    }
   ],
   "source": [
    "#Centroide\n",
    "Z = hierarchy.linkage(X.to_numpy(), 'centroid')\n",
    "dn = hierarchy.dendrogram(Z,labels=names.tolist(),orientation='right')\n",
    "c,cophe_dists= hierarchy.cophenet(Z,pdist(X))\n",
    "print(\"Coeficiente cofenético: \", c)"
   ]
  },
  {
   "cell_type": "code",
   "execution_count": 12,
   "metadata": {},
   "outputs": [
    {
     "name": "stdout",
     "output_type": "stream",
     "text": [
      "Coeficiente cofenético:  0.7314871163595956\n"
     ]
    },
    {
     "data": {
      "image/png": "[encoded data removed]",
      "text/plain": [
       "<Figure size 432x288 with 1 Axes>"
      ]
     },
     "metadata": {
      "needs_background": "light"
     },
     "output_type": "display_data"
    }
   ],
   "source": [
    "#Ward\n",
    "Z = hierarchy.linkage(X.to_numpy(), 'ward')\n",
    "dn = hierarchy.dendrogram(Z,labels=names.tolist(),orientation='right')\n",
    "c,cophe_dists= hierarchy.cophenet(Z,pdist(X))\n",
    "print(\"Coeficiente cofenético: \", c)"
   ]
  },
  {
   "cell_type": "markdown",
   "metadata": {},
   "source": [
    "No hay en el agrupamiento jerárquico una técnica estadística que nos ayude a determinar cuál es el número ideal de clusters. Una regla empírica consiste en buscar en el dendrograma grupos que se forman a altas distancias. Otra regla que también funciona en algunos problemas es buscar los grupos donde la diferencia de distancias respecto a los anteriores agrupamientos (gap) sea más alta.\n",
    "\n",
    "**Pregunta 3:** Observa los dendrogramas que has obtenido e indica en cuál se ve más claramente un corte siguiendo estos criterios y si tiene sentido en el dataset de vertebrados.\n",
    "\n",
    "<font color='blue'>\n",
    "En el dendograma obtenido mediante el uso del método Single Link, se ve más claramente el corte que en el resto, sin embargo, este agrupamiento no tiene sentido en nuestro dataset.\n",
    "</font>\n",
    "    "
   ]
  },
  {
   "cell_type": "markdown",
   "metadata": {},
   "source": [
    "**Pregunta 4:** Compara los diferentes dendrogramas obtenidos con las Clases de los animales que contienen los clusters obtenidos, en los diferentes niveles de distancias de grupos. Comenta tus conclusiones acerca de la calidad de cada método.\n",
    "Comentario (discusión lo más informativa posible. Extiéndete lo necesario):\n",
    "\n",
    "<font color='blue'>\n",
    "    \n",
    "- Single Link: en este dendograma se observan 4 clases, habiendo 5 tipos de animales en nuestro dataset. Aunque es una clasificación aceptable, se podrían agrupar en más sectores.   \n",
    "    \n",
    "- Complete Linkage: en este dendograma, si hacemos el corte en 1.5, obtenemos 6 clases porque la clase 'fishes' está dividida en dos grupos. En cambio, si realizamos el corte a partir de 1.5, no se obtienen sufientes clases.\n",
    "\n",
    "- Average Linkage: si hacemos el corte en 2.3, se observan los 5 grupos, pero el pingüino queda aislado. Igualmente, sería la mejor clasificación hasta el momento.\n",
    "\n",
    "- Centroid: se obtienen demasiados grupos y, además, se dan algunos 'crossovers'. Por tanto, este método no sería adecuado.\n",
    "\n",
    "- Ward: realizando el corte en 1.6, se obtienen 4 clases. Aunque es una clasificación aceptable, se podrían agrupar en más sectores.\n",
    "\n",
    "Cabe destacar que el coeficiciente cofenético es bastante alto para todos los métodos. Esto refleja que, aunque el proceso de formación del endograma tiene cierta calidad, el agrupamiento no tiene por qué ser bueno.\n",
    "</font>"
   ]
  }
 ],
 "metadata": {
  "kernelspec": {
   "display_name": "Python 3 (ipykernel)",
   "language": "python",
   "name": "python3"
  },
  "language_info": {
   "codemirror_mode": {
    "name": "ipython",
    "version": 3
   },
   "file_extension": ".py",
   "mimetype": "text/x-python",
   "name": "python",
   "nbconvert_exporter": "python",
   "pygments_lexer": "ipython3",
   "version": "3.9.12"
  }
 },
 "nbformat": 4,
 "nbformat_minor": 4
}
