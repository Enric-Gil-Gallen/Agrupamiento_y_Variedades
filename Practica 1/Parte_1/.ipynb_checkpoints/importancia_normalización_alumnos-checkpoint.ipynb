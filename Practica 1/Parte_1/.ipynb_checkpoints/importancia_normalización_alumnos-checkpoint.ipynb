{
 "cells": [
  {
   "cell_type": "markdown",
   "metadata": {},
   "source": [
    "### Importancia de la Normalización de las características para el algoritmo K-Neighbors\n",
    "\n",
    "En este ejercicio vamos a ver que es crítico el uso de componentes normalizadas en conjuntos de datos donde los rangos de valores son muy diferentes entre características. \n",
    "\n",
    "Consideremos la tabla 'ventas.csv' que indica si hemos conseguido vender un seguro de vida a diferentes potenciales clientes de los cuales sabemos su sueldo y su edad. \n",
    "\n",
    "La idea es hacer un predictor al que introduciéndole el sueldo y la edad del potencial cliente nos indique si es probable que nos compre el seguro de vida. Para ello vamos a utilizar el algoritmo de los K-vecinos. Específicamente vamos a buscar el vecino más próximo al dato de consulta y asumiremos que el comportamiento previsto será el de dicho vecino."
   ]
  },
  {
   "cell_type": "code",
   "execution_count": 2,
   "metadata": {},
   "outputs": [
    {
     "name": "stdout",
     "output_type": "stream",
     "text": [
      "   Sueldo  Edad Compra\n",
      "0   53700    41     no\n",
      "1   65300    37     no\n",
      "2   48900    45     si\n",
      "3   64800    49     si\n",
      "4   44200    30     no\n",
      "5   55900    57     si\n",
      "6   48600    26     no\n",
      "7   72800    60     si\n",
      "8   45300    34     no\n",
      "9   73200    52     si\n"
     ]
    }
   ],
   "source": [
    "#cargamos el dataset de los clientes que conocemos en un DataFrame.Llámalo 'data'\n",
    "import pandas as pd\n",
    "import numpy as np\n",
    "\n",
    "#Código aquí\n",
    "data = pd.read_csv('ventas.csv' , sep = ';')\n",
    "print(data)\n",
    "\n"
   ]
  },
  {
   "cell_type": "code",
   "execution_count": null,
   "metadata": {},
   "outputs": [],
   "source": []
  },
  {
   "cell_type": "code",
   "execution_count": 3,
   "metadata": {},
   "outputs": [],
   "source": [
    "#Del original separamos las columnnas que harán de puntos en un espacio 2D 'Sueldo' y 'Edad'  \n",
    "#y dejamos en otro dataframe la columna 'Compra' que es la respuesta a la consulta\n",
    "\n",
    "gt = data.drop(['Sueldo', 'Edad' ], axis=1)\n",
    "Y = data.drop(['Compra'], axis=1)\n",
    "\n",
    "#Las transformamos en arrays\n",
    "Ynp = Y.to_numpy()\n",
    "\n",
    "gtnp = gt.to_numpy()"
   ]
  },
  {
   "cell_type": "code",
   "execution_count": 6,
   "metadata": {},
   "outputs": [
    {
     "data": {
      "text/plain": [
       "KNeighborsClassifier()"
      ]
     },
     "execution_count": 6,
     "metadata": {},
     "output_type": "execute_result"
    }
   ],
   "source": [
    "#cargamos el algoritmo de K-Neighbors\n",
    "from sklearn.neighbors import KNeighborsClassifier\n",
    "\n",
    "#preparamos el clasificador para devolver el primer vecino mas próximo. Lo llamamos 'neigh'\n",
    "\n",
    "#Código aquí\n",
    "neigh = KNeighborsClassifier()\n",
    "\n",
    "#Introducimos el dataset para que realice el aprendizaje\n",
    "neigh.fit(Ynp, np.ravel(gtnp))"
   ]
  },
  {
   "cell_type": "markdown",
   "metadata": {},
   "source": [
    "Observa en el diagrama que se genera en la siguiente casilla la disposición de los puntos del dataset. Hemos puesto con 'x' \n",
    "los puntos que marcan clientes que no han comprado el seguro y con triángulos los clientes que sí lo han comprado."
   ]
  },
  {
   "cell_type": "code",
   "execution_count": 24,
   "metadata": {},
   "outputs": [
    {
     "name": "stdout",
     "output_type": "stream",
     "text": [
      "\n",
      "Note: you may need to restart the kernel to use updated packages.Collecting package metadata (current_repodata.json): ...working... done\n",
      "Solving environment: ...working... done\n",
      "\n",
      "## Package Plan ##\n",
      "\n",
      "  environment location: C:\\ProgramData\\Anaconda3\n",
      "\n",
      "  added / updated specs:\n",
      "    - category_encoders\n",
      "\n",
      "\n",
      "The following NEW packages will be INSTALLED:\n",
      "\n",
      "  category_encoders  conda-forge/noarch::category_encoders-2.5.0-pyhd8ed1ab_0\n",
      "  python_abi         conda-forge/win-64::python_abi-3.9-2_cp39\n",
      "\n",
      "The following packages will be UPDATED:\n",
      "\n",
      "  conda              pkgs/main::conda-4.14.0-py39haa95532_0 --> conda-forge::conda-22.9.0-py39hcbf5309_1\n",
      "\n",
      "\n"
     ]
    },
    {
     "name": "stderr",
     "output_type": "stream",
     "text": [
      "\n",
      "\n",
      "==> WARNING: A newer version of conda exists. <==\n",
      "  current version: 4.14.0\n",
      "  latest version: 22.9.0\n",
      "\n",
      "Please update conda by running\n",
      "\n",
      "    $ conda update -n base -c defaults conda\n",
      "\n",
      "\n",
      "\n",
      "EnvironmentNotWritableError: The current user does not have write permissions to the target environment.\n",
      "  environment location: C:\\ProgramData\\Anaconda3\n",
      "\n",
      "\n"
     ]
    },
    {
     "name": "stdout",
     "output_type": "stream",
     "text": [
      "\n",
      "Preparing transaction: ...working... done\n",
      "Verifying transaction: ...working... failed\n"
     ]
    }
   ],
   "source": [
    "conda install -c conda-forge category_encoders"
   ]
  },
  {
   "cell_type": "code",
   "execution_count": 26,
   "metadata": {},
   "outputs": [
    {
     "name": "stdout",
     "output_type": "stream",
     "text": [
      "\n",
      "Note: you may need to restart the kernel to use updated packages.\n"
     ]
    },
    {
     "name": "stderr",
     "output_type": "stream",
     "text": [
      "\n",
      "PackageNotInstalledError: Package is not installed in prefix.\n",
      "  prefix: C:\\ProgramData\\Anaconda3\n",
      "  package name: cond\n",
      "\n",
      "\n"
     ]
    }
   ],
   "source": [
    "conda update -n base -c defaults cond"
   ]
  },
  {
   "cell_type": "code",
   "execution_count": 25,
   "metadata": {},
   "outputs": [],
   "source": [
    "#pip install category_encoders"
   ]
  },
  {
   "cell_type": "code",
   "execution_count": 31,
   "metadata": {
    "scrolled": true
   },
   "outputs": [
    {
     "ename": "ModuleNotFoundError",
     "evalue": "No module named 'category_encoders'",
     "output_type": "error",
     "traceback": [
      "\u001b[1;31m---------------------------------------------------------------------------\u001b[0m",
      "\u001b[1;31mModuleNotFoundError\u001b[0m                       Traceback (most recent call last)",
      "Input \u001b[1;32mIn [31]\u001b[0m, in \u001b[0;36m<cell line: 10>\u001b[1;34m()\u001b[0m\n\u001b[0;32m      5\u001b[0m marker\u001b[38;5;241m=\u001b[39m[\u001b[38;5;124m'\u001b[39m\u001b[38;5;124mx\u001b[39m\u001b[38;5;124m'\u001b[39m,\u001b[38;5;124m'\u001b[39m\u001b[38;5;124m^\u001b[39m\u001b[38;5;124m'\u001b[39m]\n\u001b[0;32m      7\u001b[0m \u001b[38;5;66;03m#Vamos a codificar de manera binaria los valores 'si' 'no' de la tabla de respuestas 'Compra'\u001b[39;00m\n\u001b[0;32m      8\u001b[0m \u001b[38;5;66;03m#para utilizarlos como índice en el array 'marker'. Así, los que no compran se visualizarán como puntos\u001b[39;00m\n\u001b[0;32m      9\u001b[0m \u001b[38;5;66;03m#en forma de aspa y los que compran se visualizarán como triángulos.\u001b[39;00m\n\u001b[1;32m---> 10\u001b[0m \u001b[38;5;28;01mimport\u001b[39;00m \u001b[38;5;21;01mcategory_encoders\u001b[39;00m \u001b[38;5;28;01mas\u001b[39;00m \u001b[38;5;21;01mce\u001b[39;00m\n\u001b[0;32m     11\u001b[0m encoder \u001b[38;5;241m=\u001b[39m ce\u001b[38;5;241m.\u001b[39mBinaryEncoder()\n\u001b[0;32m     13\u001b[0m \u001b[38;5;66;03m#Código aquí. codifica el array gtnp\u001b[39;00m\n",
      "\u001b[1;31mModuleNotFoundError\u001b[0m: No module named 'category_encoders'"
     ]
    }
   ],
   "source": [
    "import matplotlib.pyplot as plt\n",
    "plt.style.use('seaborn-whitegrid')\n",
    "\n",
    "#Definimos los símbolos que representamos en el diagrama\n",
    "marker=['x','^']\n",
    "\n",
    "#Vamos a codificar de manera binaria los valores 'si' 'no' de la tabla de respuestas 'Compra'\n",
    "#para utilizarlos como índice en el array 'marker'. Así, los que no compran se visualizarán como puntos\n",
    "#en forma de aspa y los que compran se visualizarán como triángulos.\n",
    "import category_encoders as ce\n",
    "encoder = ce.BinaryEncoder()\n",
    "\n",
    "#Código aquí. codifica el array gtnp\n",
    "gtnpq=encoder.fit_tranform(gtnp)[\"0_0\"]\n",
    "\n",
    "pp=np.array(gtnpq)\n",
    "\n",
    "#Código aquí. Visualiza con plt.scatter el dataset  Ynp utilizando 'marker' con la información de pp"
   ]
  },
  {
   "cell_type": "markdown",
   "metadata": {},
   "source": [
    "Visualizando la gráfica podemos hacernos una idea de cuál es el perfil del cliente que NO va a comprar un seguro.\n",
    "Especifica ese perfil. \n",
    "\n",
    "**Respuesta:**\n"
   ]
  },
  {
   "cell_type": "markdown",
   "metadata": {},
   "source": [
    "Vamos a predecir si un cliente que cobra 56000 euros al año y tiene 35 años nos compraría el seguro o no. \n",
    "Para ello buscaremos el vecino más próximo y consultaremos la decisión que tomó ese vecino."
   ]
  },
  {
   "cell_type": "code",
   "execution_count": 30,
   "metadata": {},
   "outputs": [
    {
     "name": "stdout",
     "output_type": "stream",
     "text": [
      "[[102.39140589]]\n",
      "[[5]]\n",
      "Vecino mas proximo\n",
      "Sueldo    55900\n",
      "Edad         57\n",
      "Compra       si\n",
      "Name: 5, dtype: object\n"
     ]
    }
   ],
   "source": [
    "dist, index = neigh.kneighbors(np.array([56000 , 35]).reshape(1,-1),1,True)\n",
    "\n",
    "print(dist)\n",
    "print(index)\n",
    "\n",
    "print(\"Vecino mas proximo\")\n",
    "print(data.iloc[index[0,0]])"
   ]
  },
  {
   "cell_type": "markdown",
   "metadata": {},
   "source": [
    "Vemos que el que nos ha dado como vecino más próximo, no parece cumplir el perfil del dato de consulta.\n",
    "Si visualizamos el punto del potencial cliente buscado, no *'parece'* estar cercano al vecino más próximo en la gráfica:"
   ]
  },
  {
   "cell_type": "code",
   "execution_count": null,
   "metadata": {},
   "outputs": [],
   "source": [
    "#Código aquí. Visualiza con plt.scatter el dataset  Ynp utilizando 'marker' con la información de pp\n",
    "\n",
    "#pintamos el punto de query\n",
    "plt.scatter(56000,35,marker='o', color='blue')"
   ]
  },
  {
   "cell_type": "markdown",
   "metadata": {},
   "source": [
    "Explica con tus palabras a qué se debe este resultado.\n",
    "\n",
    "**Respuesta:**\n"
   ]
  },
  {
   "cell_type": "markdown",
   "metadata": {},
   "source": [
    "Vamos a normalizar las características del array Ynp para que ambas se encuentren en el mismo rango. Para ello vamos a usar el método \n",
    "MinMaxScaler de sklearn.preprocessing"
   ]
  },
  {
   "cell_type": "code",
   "execution_count": null,
   "metadata": {},
   "outputs": [],
   "source": [
    "from sklearn.preprocessing import MinMaxScaler\n",
    "\n",
    "#Código aquí.\n",
    "scaler = ????\n",
    "\n",
    "scaler.fit(???)\n",
    "Ynpnorm = scaler.transform(???)\n",
    "\n",
    "#observa ahora cómo los valores están normalizados\n",
    "print(Ynpnorm)\n",
    "\n",
    "#Llama ahora otra vez al clasificador de k-vecinos para un solo vecino\n",
    "neigh2 = KNeighborsClassifier(n_neighbors=1)\n",
    "neigh2.fit(Ynpnorm, np.ravel(gtnp))\n",
    "\n",
    "#Obtén con scaler las características normalizadas del punto (56000,35)\n",
    "query = scaler.????\n",
    "\n",
    "#Obtén ahora con el clasificador neigh2 el vecino más próximo de query\n",
    "dist2, index2 = ?????"
   ]
  },
  {
   "cell_type": "code",
   "execution_count": null,
   "metadata": {},
   "outputs": [],
   "source": [
    "#imprimimos el nuevo resultado\n",
    "print(\"Vecino mas proximo\")\n",
    "print(data.iloc[index2[0,0]])\n"
   ]
  },
  {
   "cell_type": "code",
   "execution_count": null,
   "metadata": {},
   "outputs": [],
   "source": [
    "#Código aquí. Visualiza con plt.scatter el dataset normalizado\n",
    "\n",
    "plt.scatter(query[:,0],query[:,1],marker='o', color='blue')"
   ]
  },
  {
   "cell_type": "markdown",
   "metadata": {},
   "source": [
    "Observa la gráfica y explica el resultado que has obtenido con el nuevo dato normalizado 'query'.\n",
    "\n",
    "**Respuesta:**"
   ]
  }
 ],
 "metadata": {
  "kernelspec": {
   "display_name": "Python 3 (ipykernel)",
   "language": "python",
   "name": "python3"
  },
  "language_info": {
   "codemirror_mode": {
    "name": "ipython",
    "version": 3
   },
   "file_extension": ".py",
   "mimetype": "text/x-python",
   "name": "python",
   "nbconvert_exporter": "python",
   "pygments_lexer": "ipython3",
   "version": "3.9.12"
  }
 },
 "nbformat": 4,
 "nbformat_minor": 4
}
