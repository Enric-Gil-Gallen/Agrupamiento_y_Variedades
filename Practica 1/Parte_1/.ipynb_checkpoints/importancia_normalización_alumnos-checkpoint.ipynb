{
 "cells": [
  {
   "cell_type": "markdown",
   "metadata": {},
   "source": [
    "### Importancia de la Normalización de las características para el algoritmo K-Neighbors\n",
    "\n",
    "En este ejercicio vamos a ver que es crítico el uso de componentes normalizadas en conjuntos de datos donde los rangos de valores son muy diferentes entre características. \n",
    "\n",
    "Consideremos la tabla 'ventas.csv' que indica si hemos conseguido vender un seguro de vida a diferentes potenciales clientes de los cuales sabemos su sueldo y su edad. \n",
    "\n",
    "La idea es hacer un predictor al que introduciéndole el sueldo y la edad del potencial cliente nos indique si es probable que nos compre el seguro de vida. Para ello vamos a utilizar el algoritmo de los K-vecinos. Específicamente vamos a buscar el vecino más próximo al dato de consulta y asumiremos que el comportamiento previsto será el de dicho vecino."
   ]
  },
  {
   "cell_type": "code",
   "execution_count": 2,
   "metadata": {},
   "outputs": [
    {
     "name": "stdout",
     "output_type": "stream",
     "text": [
      "   Sueldo  Edad Compra\n",
      "0   53700    41     no\n",
      "1   65300    37     no\n",
      "2   48900    45     si\n",
      "3   64800    49     si\n",
      "4   44200    30     no\n",
      "5   55900    57     si\n",
      "6   48600    26     no\n",
      "7   72800    60     si\n",
      "8   45300    34     no\n",
      "9   73200    52     si\n"
     ]
    }
   ],
   "source": [
    "#cargamos el dataset de los clientes que conocemos en un DataFrame.Llámalo 'data'\n",
    "\n",
    "import pandas as pd\n",
    "import numpy as np\n",
    "\n",
    "#Código aquí\n",
    "data = pd.read_csv('ventas.csv', sep = ';')\n",
    "print(data)\n",
    "\n"
   ]
  },
  {
   "cell_type": "code",
   "execution_count": 3,
   "metadata": {},
   "outputs": [],
   "source": [
    "#Del original separamos las columnnas que harán de puntos en un espacio 2D 'Sueldo' y 'Edad'  \n",
    "#y dejamos en otro dataframe la columna 'Compra' que es la respuesta a la consulta\n",
    "\n",
    "gt = data.drop(['Sueldo', 'Edad' ], axis=1)\n",
    "Y = data.drop(['Compra'], axis=1)\n",
    "\n",
    "#Las transformamos en arrays\n",
    "Ynp = Y.to_numpy()\n",
    "\n",
    "gtnp = gt.to_numpy()"
   ]
  },
  {
   "cell_type": "code",
   "execution_count": 11,
   "metadata": {},
   "outputs": [
    {
     "data": {
      "text/plain": [
       "KNeighborsClassifier()"
      ]
     },
     "execution_count": 11,
     "metadata": {},
     "output_type": "execute_result"
    }
   ],
   "source": [
    "#cargamos el algoritmo de K-Neighbors\n",
    "from sklearn.neighbors import KNeighborsClassifier\n",
    "\n",
    "#preparamos el clasificador para devolver el primer vecino mas próximo. Lo llamamos 'neigh'\n",
    "\n",
    "#Código aquí\n",
    "neigh = KNeighborsClassifier()\n",
    "#Introducimos el dataset para que realice el aprendizaje\n",
    "neigh.fit(Ynp, np.ravel(gtnp))"
   ]
  },
  {
   "cell_type": "markdown",
   "metadata": {},
   "source": [
    "Observa en el diagrama que se genera en la siguiente casilla la disposición de los puntos del dataset. Hemos puesto con 'x' \n",
    "los puntos que marcan clientes que no han comprado el seguro y con triángulos los clientes que sí lo han comprado."
   ]
  },
  {
   "cell_type": "code",
   "execution_count": 47,
   "metadata": {
    "scrolled": true
   },
   "outputs": [
    {
     "data": {
      "image/png": "[encoded data removed]",
      "text/plain": [
       "<Figure size 432x288 with 1 Axes>"
      ]
     },
     "metadata": {},
     "output_type": "display_data"
    }
   ],
   "source": [
    "import matplotlib.pyplot as plt\n",
    "plt.style.use('seaborn-whitegrid')\n",
    "\n",
    "#Definimos los símbolos que representamos en el diagrama\n",
    "marker=['x','^']\n",
    "\n",
    "#Vamos a codificar de manera binaria los valores 'si' 'no' de la tabla de respuestas 'Compra'\n",
    "#para utilizarlos como índice en el array 'marker'. Así, los que no compran se visualizarán como puntos\n",
    "#en forma de aspa y los que compran se visualizarán como triángulos.\n",
    "import category_encoders as ce\n",
    "encoder = ce.BinaryEncoder()\n",
    "\n",
    "#Código aquí. codifica el array gtnp\n",
    "gtnpq = encoder.fit_transform(gtnp)[\"0_0\"]\n",
    "\n",
    "pp=np.array(gtnpq)\n",
    "#Código aquí. Visualiza con plt.scatter el dataset  Ynp utilizando 'marker' con la información de pp\n",
    "for i in range(len(Ynp)):\n",
    "    if pp[i] == 0:\n",
    "        plt.scatter(Ynp[i][0],Ynp[i][1],marker=marker[0])\n",
    "    else:\n",
    "        plt.scatter(Ynp[i][0],Ynp[i][1],marker=marker[1])\n"
   ]
  },
  {
   "cell_type": "markdown",
   "metadata": {},
   "source": [
    "Visualizando la gráfica podemos hacernos una idea de cuál es el perfil del cliente que NO va a comprar un seguro.\n",
    "Especifica ese perfil. \n",
    "\n",
    "**Respuesta:**\n",
    "Se puede observar en la gráfica que es indiferente el sueldo. Se pueden diferencias dos grupos: mayores de 40 (compran seguros) y menor de 40 (no compran seguros)."
   ]
  },
  {
   "cell_type": "markdown",
   "metadata": {},
   "source": [
    "Vamos a predecir si un cliente que cobra 56000 euros al año y tiene 35 años nos compraría el seguro o no. \n",
    "Para ello buscaremos el vecino más próximo y consultaremos la decisión que tomó ese vecino."
   ]
  },
  {
   "cell_type": "code",
   "execution_count": 48,
   "metadata": {},
   "outputs": [
    {
     "name": "stdout",
     "output_type": "stream",
     "text": [
      "[[102.39140589]]\n",
      "[[5]]\n",
      "Vecino mas proximo\n",
      "Sueldo    55900\n",
      "Edad         57\n",
      "Compra       si\n",
      "Name: 5, dtype: object\n"
     ]
    }
   ],
   "source": [
    "dist, index = neigh.kneighbors(np.array([56000 , 35]).reshape(1,-1),1,True)\n",
    "\n",
    "print(dist)\n",
    "print(index)\n",
    "\n",
    "print(\"Vecino mas proximo\")\n",
    "print(data.iloc[index[0,0]])"
   ]
  },
  {
   "cell_type": "markdown",
   "metadata": {},
   "source": [
    "Vemos que el que nos ha dado como vecino más próximo, no parece cumplir el perfil del dato de consulta.\n",
    "Si visualizamos el punto del potencial cliente buscado, no *'parece'* estar cercano al vecino más próximo en la gráfica:"
   ]
  },
  {
   "cell_type": "code",
   "execution_count": 49,
   "metadata": {},
   "outputs": [
    {
     "data": {
      "text/plain": [
       "<matplotlib.collections.PathCollection at 0x7f9a9c50df70>"
      ]
     },
     "execution_count": 49,
     "metadata": {},
     "output_type": "execute_result"
    },
    {
     "data": {
      "image/png": "[encoded data removed]",
      "text/plain": [
       "<Figure size 432x288 with 1 Axes>"
      ]
     },
     "metadata": {},
     "output_type": "display_data"
    }
   ],
   "source": [
    "#Código aquí. Visualiza con plt.scatter el dataset  Ynp utilizando 'marker' con la información de pp\n",
    "for i in range(len(Ynp)):\n",
    "    if pp[i] == 0:\n",
    "        plt.scatter(Ynp[i][0],Ynp[i][1],marker=marker[0])\n",
    "    else:\n",
    "        plt.scatter(Ynp[i][0],Ynp[i][1],marker=marker[1])\n",
    "\n",
    "#pintamos el punto de query\n",
    "plt.scatter(56000,35,marker='o', color='blue')"
   ]
  },
  {
   "cell_type": "markdown",
   "metadata": {},
   "source": [
    "Explica con tus palabras a qué se debe este resultado.\n",
    "\n",
    "**Respuesta:**\n",
    "Observamos que el centroide está teniendo encuenta solo el sueldo y descartando la edad. Por lo tanto, el criterio de agrupación es incorrecto."
   ]
  },
  {
   "cell_type": "markdown",
   "metadata": {},
   "source": [
    "Vamos a normalizar las características del array Ynp para que ambas se encuentren en el mismo rango. Para ello vamos a usar el método \n",
    "MinMaxScaler de sklearn.preprocessing"
   ]
  },
  {
   "cell_type": "code",
   "execution_count": 51,
   "metadata": {},
   "outputs": [
    {
     "name": "stdout",
     "output_type": "stream",
     "text": [
      "[[0.32758621 0.44117647]\n",
      " [0.72758621 0.32352941]\n",
      " [0.16206897 0.55882353]\n",
      " [0.71034483 0.67647059]\n",
      " [0.         0.11764706]\n",
      " [0.40344828 0.91176471]\n",
      " [0.15172414 0.        ]\n",
      " [0.9862069  1.        ]\n",
      " [0.03793103 0.23529412]\n",
      " [1.         0.76470588]]\n"
     ]
    }
   ],
   "source": [
    "from sklearn.preprocessing import MinMaxScaler\n",
    "\n",
    "#Código aquí.\n",
    "scaler = MinMaxScaler()\n",
    "\n",
    "scaler.fit(Ynp)\n",
    "Ynpnorm = scaler.transform(Ynp)\n",
    "\n",
    "#observa ahora cómo los valores están normalizados\n",
    "print(Ynpnorm)\n",
    "\n",
    "#Llama ahora otra vez al clasificador de k-vecinos para un solo vecino\n",
    "neigh2 = KNeighborsClassifier(n_neighbors=1)\n",
    "neigh2.fit(Ynpnorm, np.ravel(gtnp))\n",
    "\n",
    "#Obtén con scaler las características normalizadas del punto (56000,35)\n",
    "query = scaler.transform([[56000,35]])\n",
    "\n",
    "#Obtén ahora con el clasificador neigh2 el vecino más próximo de query\n",
    "dist2, index2 = neigh2.kneighbors(np.array(query).reshape(1,-1),1,True)"
   ]
  },
  {
   "cell_type": "code",
   "execution_count": 55,
   "metadata": {},
   "outputs": [
    {
     "name": "stdout",
     "output_type": "stream",
     "text": [
      "Vecino mas proximo\n",
      "Sueldo    53700\n",
      "Edad         41\n",
      "Compra       no\n",
      "Name: 0, dtype: object\n"
     ]
    }
   ],
   "source": [
    "#imprimimos el nuevo resultado\n",
    "print(\"Vecino mas proximo\")\n",
    "print(data.iloc[index2[0,0]])"
   ]
  },
  {
   "cell_type": "code",
   "execution_count": 53,
   "metadata": {},
   "outputs": [
    {
     "data": {
      "text/plain": [
       "<matplotlib.collections.PathCollection at 0x7f9a9c5465b0>"
      ]
     },
     "execution_count": 53,
     "metadata": {},
     "output_type": "execute_result"
    },
    {
     "data": {
      "image/png": "[encoded data removed]",
      "text/plain": [
       "<Figure size 432x288 with 1 Axes>"
      ]
     },
     "metadata": {},
     "output_type": "display_data"
    }
   ],
   "source": [
    "#Código aquí. Visualiza con plt.scatter el dataset normalizado\n",
    "for i in range(len(Ynpnorm)):\n",
    "    if pp[i] == 0:\n",
    "        plt.scatter(Ynpnorm[i][0],Ynpnorm[i][1],marker=marker[0])\n",
    "    else:\n",
    "        plt.scatter(Ynpnorm[i][0],Ynpnorm[i][1],marker=marker[1])\n",
    "        \n",
    "plt.scatter(query[:,0],query[:,1],marker='o', color='blue')"
   ]
  },
  {
   "cell_type": "markdown",
   "metadata": {},
   "source": [
    "Observa la gráfica y explica el resultado que has obtenido con el nuevo dato normalizado 'query'.\n",
    "\n",
    "**Respuesta:**\n",
    "Una vez normalizados los datos, se observa que el vecino tiene una edad similar y, dado que esto es el valor más representativo, le da coherencia a la búsqueda del vecino."
   ]
  }
 ],
 "metadata": {
  "kernelspec": {
   "display_name": "Python 3 (ipykernel)",
   "language": "python",
   "name": "python3"
  },
  "language_info": {
   "codemirror_mode": {
    "name": "ipython",
    "version": 3
   },
   "file_extension": ".py",
   "mimetype": "text/x-python",
   "name": "python",
   "nbconvert_exporter": "python",
   "pygments_lexer": "ipython3",
   "version": "3.9.12"
  }
 },
 "nbformat": 4,
 "nbformat_minor": 4
}
